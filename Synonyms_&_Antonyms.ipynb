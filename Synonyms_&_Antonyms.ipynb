{
  "nbformat": 4,
  "nbformat_minor": 0,
  "metadata": {
    "colab": {
      "provenance": []
    },
    "kernelspec": {
      "name": "python3",
      "display_name": "Python 3"
    },
    "language_info": {
      "name": "python"
    }
  },
  "cells": [
    {
      "cell_type": "code",
      "execution_count": 3,
      "metadata": {
        "colab": {
          "base_uri": "https://localhost:8080/"
        },
        "id": "sK9sROvS2sPT",
        "outputId": "83cbab7c-fec8-4498-f08c-015b05d9e6e0"
      },
      "outputs": [
        {
          "output_type": "stream",
          "name": "stderr",
          "text": [
            "[nltk_data] Downloading package wordnet to /root/nltk_data...\n",
            "[nltk_data]   Package wordnet is already up-to-date!\n",
            "[nltk_data] Downloading package punkt to /root/nltk_data...\n",
            "[nltk_data]   Package punkt is already up-to-date!\n"
          ]
        },
        {
          "output_type": "stream",
          "name": "stdout",
          "text": [
            "Enter a word: Sleep\n",
            "Synonyms for Sleep:\n",
            "['slumber', 'eternal_rest', 'eternal_sleep', 'quietus', 'nap', 'sleep', \"catch_some_Z's\", 'kip', 'sopor', 'rest', \"log_Z's\"]\n"
          ]
        }
      ],
      "source": [
        "import nltk\n",
        "nltk.download('wordnet')\n",
        "nltk.download('punkt')\n",
        "from nltk.corpus import wordnet\n",
        "\n",
        "word = input(\"Enter a word: \")\n",
        "\n",
        "synonyms =[]\n",
        "for syn in wordnet.synsets(word):\n",
        "  for lemma in syn.lemmas():\n",
        "    synonyms.append(lemma.name())\n",
        "\n",
        "synonyms = list(set(synonyms))\n",
        "\n",
        "print(\"Synonyms for\", word +\":\")\n",
        "print(synonyms)"
      ]
    },
    {
      "cell_type": "code",
      "source": [
        "import nltk\n",
        "nltk.download('wordnet')\n",
        "nltk.download('punkt')\n",
        "from nltk.corpus import wordnet\n",
        "\n",
        "word = input(\"Enter a word: \")\n",
        "\n",
        "antonyms =[]\n",
        "for syn in wordnet.synsets(word):\n",
        "  for lemma in syn.lemmas():\n",
        "    for antonym in lemma.antonyms():\n",
        "      antonyms.append(antonym.name())\n",
        "\n",
        "antonyms = list(set(antonyms))\n",
        "\n",
        "print(\"Antonyms for\", word +\":\")\n",
        "print(antonyms)"
      ],
      "metadata": {
        "colab": {
          "base_uri": "https://localhost:8080/"
        },
        "id": "jbsERHw82tUB",
        "outputId": "1bddcbb7-a779-4c68-924e-e67367e7691a"
      },
      "execution_count": 2,
      "outputs": [
        {
          "output_type": "stream",
          "name": "stderr",
          "text": [
            "[nltk_data] Downloading package wordnet to /root/nltk_data...\n",
            "[nltk_data]   Package wordnet is already up-to-date!\n",
            "[nltk_data] Downloading package punkt to /root/nltk_data...\n",
            "[nltk_data]   Package punkt is already up-to-date!\n"
          ]
        },
        {
          "output_type": "stream",
          "name": "stdout",
          "text": [
            "Enter a word: Bad\n",
            "Antonyms for Bad:\n",
            "['good', 'unregretful', 'goodness']\n"
          ]
        }
      ]
    },
    {
      "cell_type": "code",
      "source": [],
      "metadata": {
        "id": "brbBMfCm2yLz"
      },
      "execution_count": null,
      "outputs": []
    }
  ]
}